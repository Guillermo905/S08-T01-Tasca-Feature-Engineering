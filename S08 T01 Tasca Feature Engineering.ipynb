{
 "cells": [
  {
   "cell_type": "markdown",
   "id": "50f0c984",
   "metadata": {},
   "source": [
    "# Nivell 1\n",
    "\n",
    "## Exercici 1\n",
    "\n",
    "Agafa un conjunt de dades de tema esportiu que t'agradi i normalitza els atributs categòrics en dummy. Estandaritza els atributs numèrics amb StandardScaler."
   ]
  },
  {
   "cell_type": "markdown",
   "id": "391d9d82",
   "metadata": {},
   "source": [
    "La següent base de dades prové de l'ajuntament de Barcelona on estudia el sexe i el nombre de persones per edat segons barri i districte."
   ]
  },
  {
   "cell_type": "code",
   "execution_count": 1,
   "id": "90f6084d",
   "metadata": {},
   "outputs": [],
   "source": [
    "import pandas as pd\n",
    "import numpy as np\n",
    "import matplotlib.pyplot as plt\n",
    "import seaborn as sns"
   ]
  },
  {
   "cell_type": "code",
   "execution_count": 2,
   "id": "03151597",
   "metadata": {},
   "outputs": [
    {
     "data": {
      "text/html": [
       "<div>\n",
       "<style scoped>\n",
       "    .dataframe tbody tr th:only-of-type {\n",
       "        vertical-align: middle;\n",
       "    }\n",
       "\n",
       "    .dataframe tbody tr th {\n",
       "        vertical-align: top;\n",
       "    }\n",
       "\n",
       "    .dataframe thead th {\n",
       "        text-align: right;\n",
       "    }\n",
       "</style>\n",
       "<table border=\"1\" class=\"dataframe\">\n",
       "  <thead>\n",
       "    <tr style=\"text-align: right;\">\n",
       "      <th></th>\n",
       "      <th>Any</th>\n",
       "      <th>Codi_Districte</th>\n",
       "      <th>Nom_Districte</th>\n",
       "      <th>Codi_Barri</th>\n",
       "      <th>Nom_Barri</th>\n",
       "      <th>Sexe</th>\n",
       "      <th>Edat_any_a_any</th>\n",
       "      <th>Nombre</th>\n",
       "    </tr>\n",
       "  </thead>\n",
       "  <tbody>\n",
       "    <tr>\n",
       "      <th>0</th>\n",
       "      <td>2021</td>\n",
       "      <td>1</td>\n",
       "      <td>Ciutat Vella</td>\n",
       "      <td>1</td>\n",
       "      <td>el Raval</td>\n",
       "      <td>Dones</td>\n",
       "      <td>0 anys</td>\n",
       "      <td>199</td>\n",
       "    </tr>\n",
       "    <tr>\n",
       "      <th>1</th>\n",
       "      <td>2021</td>\n",
       "      <td>1</td>\n",
       "      <td>Ciutat Vella</td>\n",
       "      <td>2</td>\n",
       "      <td>el Barri Gòtic</td>\n",
       "      <td>Dones</td>\n",
       "      <td>0 anys</td>\n",
       "      <td>62</td>\n",
       "    </tr>\n",
       "    <tr>\n",
       "      <th>2</th>\n",
       "      <td>2021</td>\n",
       "      <td>1</td>\n",
       "      <td>Ciutat Vella</td>\n",
       "      <td>3</td>\n",
       "      <td>la Barceloneta</td>\n",
       "      <td>Dones</td>\n",
       "      <td>0 anys</td>\n",
       "      <td>40</td>\n",
       "    </tr>\n",
       "    <tr>\n",
       "      <th>3</th>\n",
       "      <td>2021</td>\n",
       "      <td>1</td>\n",
       "      <td>Ciutat Vella</td>\n",
       "      <td>4</td>\n",
       "      <td>Sant Pere, Santa Caterina i la Ribera</td>\n",
       "      <td>Dones</td>\n",
       "      <td>0 anys</td>\n",
       "      <td>55</td>\n",
       "    </tr>\n",
       "    <tr>\n",
       "      <th>4</th>\n",
       "      <td>2021</td>\n",
       "      <td>2</td>\n",
       "      <td>Eixample</td>\n",
       "      <td>5</td>\n",
       "      <td>el Fort Pienc</td>\n",
       "      <td>Dones</td>\n",
       "      <td>0 anys</td>\n",
       "      <td>83</td>\n",
       "    </tr>\n",
       "  </tbody>\n",
       "</table>\n",
       "</div>"
      ],
      "text/plain": [
       "    Any  Codi_Districte Nom_Districte  Codi_Barri  \\\n",
       "0  2021               1  Ciutat Vella           1   \n",
       "1  2021               1  Ciutat Vella           2   \n",
       "2  2021               1  Ciutat Vella           3   \n",
       "3  2021               1  Ciutat Vella           4   \n",
       "4  2021               2      Eixample           5   \n",
       "\n",
       "                               Nom_Barri   Sexe Edat_any_a_any  Nombre  \n",
       "0                               el Raval  Dones         0 anys     199  \n",
       "1                         el Barri Gòtic  Dones         0 anys      62  \n",
       "2                         la Barceloneta  Dones         0 anys      40  \n",
       "3  Sant Pere, Santa Caterina i la Ribera  Dones         0 anys      55  \n",
       "4                          el Fort Pienc  Dones         0 anys      83  "
      ]
     },
     "execution_count": 2,
     "metadata": {},
     "output_type": "execute_result"
    }
   ],
   "source": [
    "df = pd.read_csv(\"C:/Users/Guillermo/Desktop/Curs Data Scientist/Sprint 8/demo_edad_sexo.csv\")\n",
    "df.head()"
   ]
  },
  {
   "cell_type": "code",
   "execution_count": 11,
   "id": "3892442a",
   "metadata": {},
   "outputs": [
    {
     "data": {
      "text/html": [
       "<div>\n",
       "<style scoped>\n",
       "    .dataframe tbody tr th:only-of-type {\n",
       "        vertical-align: middle;\n",
       "    }\n",
       "\n",
       "    .dataframe tbody tr th {\n",
       "        vertical-align: top;\n",
       "    }\n",
       "\n",
       "    .dataframe thead th {\n",
       "        text-align: right;\n",
       "    }\n",
       "</style>\n",
       "<table border=\"1\" class=\"dataframe\">\n",
       "  <thead>\n",
       "    <tr style=\"text-align: right;\">\n",
       "      <th></th>\n",
       "      <th>Any</th>\n",
       "      <th>Codi_Districte</th>\n",
       "      <th>Nom_Districte</th>\n",
       "      <th>Codi_Barri</th>\n",
       "      <th>Nom_Barri</th>\n",
       "      <th>Sexe</th>\n",
       "      <th>Edat_any_a_any</th>\n",
       "      <th>Nombre</th>\n",
       "    </tr>\n",
       "  </thead>\n",
       "  <tbody>\n",
       "    <tr>\n",
       "      <th>14595</th>\n",
       "      <td>2021</td>\n",
       "      <td>10</td>\n",
       "      <td>Sant Martí</td>\n",
       "      <td>69</td>\n",
       "      <td>Diagonal Mar i el Front Marítim del Poblenou</td>\n",
       "      <td>Homes</td>\n",
       "      <td>99 anys i més</td>\n",
       "      <td>1</td>\n",
       "    </tr>\n",
       "    <tr>\n",
       "      <th>14596</th>\n",
       "      <td>2021</td>\n",
       "      <td>10</td>\n",
       "      <td>Sant Martí</td>\n",
       "      <td>70</td>\n",
       "      <td>el Besòs i el Maresme</td>\n",
       "      <td>Homes</td>\n",
       "      <td>99 anys i més</td>\n",
       "      <td>6</td>\n",
       "    </tr>\n",
       "    <tr>\n",
       "      <th>14597</th>\n",
       "      <td>2021</td>\n",
       "      <td>10</td>\n",
       "      <td>Sant Martí</td>\n",
       "      <td>71</td>\n",
       "      <td>Provençals del Poblenou</td>\n",
       "      <td>Homes</td>\n",
       "      <td>99 anys i més</td>\n",
       "      <td>1</td>\n",
       "    </tr>\n",
       "    <tr>\n",
       "      <th>14598</th>\n",
       "      <td>2021</td>\n",
       "      <td>10</td>\n",
       "      <td>Sant Martí</td>\n",
       "      <td>72</td>\n",
       "      <td>Sant Martí de Provençals</td>\n",
       "      <td>Homes</td>\n",
       "      <td>99 anys i més</td>\n",
       "      <td>2</td>\n",
       "    </tr>\n",
       "    <tr>\n",
       "      <th>14599</th>\n",
       "      <td>2021</td>\n",
       "      <td>10</td>\n",
       "      <td>Sant Martí</td>\n",
       "      <td>73</td>\n",
       "      <td>la Verneda i la Pau</td>\n",
       "      <td>Homes</td>\n",
       "      <td>99 anys i més</td>\n",
       "      <td>3</td>\n",
       "    </tr>\n",
       "  </tbody>\n",
       "</table>\n",
       "</div>"
      ],
      "text/plain": [
       "        Any  Codi_Districte Nom_Districte  Codi_Barri  \\\n",
       "14595  2021              10    Sant Martí          69   \n",
       "14596  2021              10    Sant Martí          70   \n",
       "14597  2021              10    Sant Martí          71   \n",
       "14598  2021              10    Sant Martí          72   \n",
       "14599  2021              10    Sant Martí          73   \n",
       "\n",
       "                                          Nom_Barri   Sexe Edat_any_a_any  \\\n",
       "14595  Diagonal Mar i el Front Marítim del Poblenou  Homes  99 anys i més   \n",
       "14596                         el Besòs i el Maresme  Homes  99 anys i més   \n",
       "14597                       Provençals del Poblenou  Homes  99 anys i més   \n",
       "14598                      Sant Martí de Provençals  Homes  99 anys i més   \n",
       "14599                           la Verneda i la Pau  Homes  99 anys i més   \n",
       "\n",
       "       Nombre  \n",
       "14595       1  \n",
       "14596       6  \n",
       "14597       1  \n",
       "14598       2  \n",
       "14599       3  "
      ]
     },
     "execution_count": 11,
     "metadata": {},
     "output_type": "execute_result"
    }
   ],
   "source": [
    "df.tail()"
   ]
  },
  {
   "cell_type": "code",
   "execution_count": 4,
   "id": "7ce9deb3",
   "metadata": {},
   "outputs": [
    {
     "data": {
      "text/plain": [
       "(14600, 8)"
      ]
     },
     "execution_count": 4,
     "metadata": {},
     "output_type": "execute_result"
    }
   ],
   "source": [
    "df.shape"
   ]
  },
  {
   "cell_type": "code",
   "execution_count": 5,
   "id": "4c73eb2b",
   "metadata": {},
   "outputs": [
    {
     "name": "stdout",
     "output_type": "stream",
     "text": [
      "<class 'pandas.core.frame.DataFrame'>\n",
      "RangeIndex: 14600 entries, 0 to 14599\n",
      "Data columns (total 8 columns):\n",
      " #   Column          Non-Null Count  Dtype \n",
      "---  ------          --------------  ----- \n",
      " 0   Any             14600 non-null  int64 \n",
      " 1   Codi_Districte  14600 non-null  int64 \n",
      " 2   Nom_Districte   14600 non-null  object\n",
      " 3   Codi_Barri      14600 non-null  int64 \n",
      " 4   Nom_Barri       14600 non-null  object\n",
      " 5   Sexe            14600 non-null  object\n",
      " 6   Edat_any_a_any  14600 non-null  object\n",
      " 7   Nombre          14600 non-null  int64 \n",
      "dtypes: int64(4), object(4)\n",
      "memory usage: 912.6+ KB\n"
     ]
    }
   ],
   "source": [
    "df.info()"
   ]
  },
  {
   "cell_type": "code",
   "execution_count": 9,
   "id": "5fe9f5da",
   "metadata": {},
   "outputs": [
    {
     "data": {
      "text/plain": [
       "Any               0\n",
       "Codi_Districte    0\n",
       "Nom_Districte     0\n",
       "Codi_Barri        0\n",
       "Nom_Barri         0\n",
       "Sexe              0\n",
       "Edat_any_a_any    0\n",
       "Nombre            0\n",
       "dtype: int64"
      ]
     },
     "execution_count": 9,
     "metadata": {},
     "output_type": "execute_result"
    }
   ],
   "source": [
    "df.isna().sum()"
   ]
  },
  {
   "cell_type": "code",
   "execution_count": 10,
   "id": "fbf8709f",
   "metadata": {},
   "outputs": [
    {
     "data": {
      "text/html": [
       "<div>\n",
       "<style scoped>\n",
       "    .dataframe tbody tr th:only-of-type {\n",
       "        vertical-align: middle;\n",
       "    }\n",
       "\n",
       "    .dataframe tbody tr th {\n",
       "        vertical-align: top;\n",
       "    }\n",
       "\n",
       "    .dataframe thead th {\n",
       "        text-align: right;\n",
       "    }\n",
       "</style>\n",
       "<table border=\"1\" class=\"dataframe\">\n",
       "  <thead>\n",
       "    <tr style=\"text-align: right;\">\n",
       "      <th></th>\n",
       "      <th>Any</th>\n",
       "      <th>Codi_Districte</th>\n",
       "      <th>Codi_Barri</th>\n",
       "      <th>Nombre</th>\n",
       "    </tr>\n",
       "  </thead>\n",
       "  <tbody>\n",
       "    <tr>\n",
       "      <th>count</th>\n",
       "      <td>14600.0</td>\n",
       "      <td>14600.000000</td>\n",
       "      <td>14600.000000</td>\n",
       "      <td>14600.000000</td>\n",
       "    </tr>\n",
       "    <tr>\n",
       "      <th>mean</th>\n",
       "      <td>2021.0</td>\n",
       "      <td>6.246575</td>\n",
       "      <td>37.000000</td>\n",
       "      <td>112.104932</td>\n",
       "    </tr>\n",
       "    <tr>\n",
       "      <th>std</th>\n",
       "      <td>0.0</td>\n",
       "      <td>2.788431</td>\n",
       "      <td>21.072029</td>\n",
       "      <td>96.996480</td>\n",
       "    </tr>\n",
       "    <tr>\n",
       "      <th>min</th>\n",
       "      <td>2021.0</td>\n",
       "      <td>1.000000</td>\n",
       "      <td>1.000000</td>\n",
       "      <td>0.000000</td>\n",
       "    </tr>\n",
       "    <tr>\n",
       "      <th>25%</th>\n",
       "      <td>2021.0</td>\n",
       "      <td>4.000000</td>\n",
       "      <td>19.000000</td>\n",
       "      <td>38.000000</td>\n",
       "    </tr>\n",
       "    <tr>\n",
       "      <th>50%</th>\n",
       "      <td>2021.0</td>\n",
       "      <td>7.000000</td>\n",
       "      <td>37.000000</td>\n",
       "      <td>88.000000</td>\n",
       "    </tr>\n",
       "    <tr>\n",
       "      <th>75%</th>\n",
       "      <td>2021.0</td>\n",
       "      <td>8.000000</td>\n",
       "      <td>55.000000</td>\n",
       "      <td>161.000000</td>\n",
       "    </tr>\n",
       "    <tr>\n",
       "      <th>max</th>\n",
       "      <td>2021.0</td>\n",
       "      <td>10.000000</td>\n",
       "      <td>73.000000</td>\n",
       "      <td>674.000000</td>\n",
       "    </tr>\n",
       "  </tbody>\n",
       "</table>\n",
       "</div>"
      ],
      "text/plain": [
       "           Any  Codi_Districte    Codi_Barri        Nombre\n",
       "count  14600.0    14600.000000  14600.000000  14600.000000\n",
       "mean    2021.0        6.246575     37.000000    112.104932\n",
       "std        0.0        2.788431     21.072029     96.996480\n",
       "min     2021.0        1.000000      1.000000      0.000000\n",
       "25%     2021.0        4.000000     19.000000     38.000000\n",
       "50%     2021.0        7.000000     37.000000     88.000000\n",
       "75%     2021.0        8.000000     55.000000    161.000000\n",
       "max     2021.0       10.000000     73.000000    674.000000"
      ]
     },
     "execution_count": 10,
     "metadata": {},
     "output_type": "execute_result"
    }
   ],
   "source": [
    "df.describe()"
   ]
  },
  {
   "cell_type": "code",
   "execution_count": 22,
   "id": "285eb7cc",
   "metadata": {},
   "outputs": [
    {
     "data": {
      "text/plain": [
       "0 anys           146\n",
       "63 anys          146\n",
       "73 anys          146\n",
       "72 anys          146\n",
       "71 anys          146\n",
       "                ... \n",
       "30 anys          146\n",
       "29 anys          146\n",
       "28 anys          146\n",
       "27 anys          146\n",
       "99 anys i més    146\n",
       "Name: Edat_any_a_any, Length: 100, dtype: int64"
      ]
     },
     "execution_count": 22,
     "metadata": {},
     "output_type": "execute_result"
    }
   ],
   "source": [
    "edatAny = df.Edat_any_a_any.value_counts()\n",
    "edatAny"
   ]
  },
  {
   "cell_type": "code",
   "execution_count": 23,
   "id": "0f70fbee",
   "metadata": {},
   "outputs": [
    {
     "data": {
      "text/plain": [
       "0"
      ]
     },
     "execution_count": 23,
     "metadata": {},
     "output_type": "execute_result"
    }
   ],
   "source": [
    "sum(edatAny!=146)"
   ]
  },
  {
   "cell_type": "code",
   "execution_count": 17,
   "id": "06db1a9d",
   "metadata": {},
   "outputs": [
    {
     "data": {
      "text/plain": [
       "el Raval                                 200\n",
       "la Teixonera                             200\n",
       "Torre Baró                               200\n",
       "la Trinitat Nova                         200\n",
       "la Prosperitat                           200\n",
       "                                        ... \n",
       "Sant Gervasi - la Bonanova               200\n",
       "les Tres Torres                          200\n",
       "Sarrià                                   200\n",
       "Vallvidrera, el Tibidabo i les Planes    200\n",
       "la Verneda i la Pau                      200\n",
       "Name: Nom_Barri, Length: 73, dtype: int64"
      ]
     },
     "execution_count": 17,
     "metadata": {},
     "output_type": "execute_result"
    }
   ],
   "source": [
    "barri = df.Nom_Barri.value_counts()\n",
    "barri"
   ]
  },
  {
   "cell_type": "code",
   "execution_count": 19,
   "id": "abea4d0a",
   "metadata": {},
   "outputs": [
    {
     "data": {
      "text/plain": [
       "0"
      ]
     },
     "execution_count": 19,
     "metadata": {},
     "output_type": "execute_result"
    }
   ],
   "source": [
    "sum(barri != 200)"
   ]
  },
  {
   "cell_type": "code",
   "execution_count": 16,
   "id": "ed5177d0",
   "metadata": {},
   "outputs": [
    {
     "data": {
      "text/plain": [
       "Dones    7300\n",
       "Homes    7300\n",
       "Name: Sexe, dtype: int64"
      ]
     },
     "execution_count": 16,
     "metadata": {},
     "output_type": "execute_result"
    }
   ],
   "source": [
    "df.Sexe.value_counts()"
   ]
  },
  {
   "cell_type": "code",
   "execution_count": 24,
   "id": "6eba9295",
   "metadata": {},
   "outputs": [
    {
     "data": {
      "text/plain": [
       "2021    14600\n",
       "Name: Any, dtype: int64"
      ]
     },
     "execution_count": 24,
     "metadata": {},
     "output_type": "execute_result"
    }
   ],
   "source": [
    "df.Any.value_counts()"
   ]
  },
  {
   "cell_type": "code",
   "execution_count": 26,
   "id": "cece6e8b",
   "metadata": {},
   "outputs": [
    {
     "data": {
      "text/plain": [
       "count    14600.000000\n",
       "mean       112.104932\n",
       "std         96.996480\n",
       "min          0.000000\n",
       "25%         38.000000\n",
       "50%         88.000000\n",
       "75%        161.000000\n",
       "max        674.000000\n",
       "Name: Nombre, dtype: float64"
      ]
     },
     "execution_count": 26,
     "metadata": {},
     "output_type": "execute_result"
    }
   ],
   "source": [
    "df.Nombre.describe()"
   ]
  },
  {
   "cell_type": "markdown",
   "id": "0c06b1cd",
   "metadata": {},
   "source": [
    "Després d'estudiar la base de dades es veu que hi han 6 variables categòriques i una discreta. A més, totes les variables categòriques presenten el mateix número de valors. També hi han dades repetides ja que codi de districte i de barri correspon al nom al que pertany. Per un altre costat no hi ha NAs.\n",
    "\n",
    "Com la variable any es la mateixa per totes les files s'eliminarà del dataset"
   ]
  },
  {
   "cell_type": "code",
   "execution_count": 3,
   "id": "389a0fda",
   "metadata": {
    "scrolled": true
   },
   "outputs": [
    {
     "data": {
      "text/html": [
       "<div>\n",
       "<style scoped>\n",
       "    .dataframe tbody tr th:only-of-type {\n",
       "        vertical-align: middle;\n",
       "    }\n",
       "\n",
       "    .dataframe tbody tr th {\n",
       "        vertical-align: top;\n",
       "    }\n",
       "\n",
       "    .dataframe thead th {\n",
       "        text-align: right;\n",
       "    }\n",
       "</style>\n",
       "<table border=\"1\" class=\"dataframe\">\n",
       "  <thead>\n",
       "    <tr style=\"text-align: right;\">\n",
       "      <th></th>\n",
       "      <th>Codi_Districte</th>\n",
       "      <th>Nom_Districte</th>\n",
       "      <th>Codi_Barri</th>\n",
       "      <th>Nom_Barri</th>\n",
       "      <th>Sexe</th>\n",
       "      <th>Edat_any_a_any</th>\n",
       "      <th>Nombre</th>\n",
       "    </tr>\n",
       "  </thead>\n",
       "  <tbody>\n",
       "    <tr>\n",
       "      <th>0</th>\n",
       "      <td>1</td>\n",
       "      <td>Ciutat Vella</td>\n",
       "      <td>1</td>\n",
       "      <td>el Raval</td>\n",
       "      <td>Dones</td>\n",
       "      <td>0 anys</td>\n",
       "      <td>199</td>\n",
       "    </tr>\n",
       "    <tr>\n",
       "      <th>1</th>\n",
       "      <td>1</td>\n",
       "      <td>Ciutat Vella</td>\n",
       "      <td>2</td>\n",
       "      <td>el Barri Gòtic</td>\n",
       "      <td>Dones</td>\n",
       "      <td>0 anys</td>\n",
       "      <td>62</td>\n",
       "    </tr>\n",
       "    <tr>\n",
       "      <th>2</th>\n",
       "      <td>1</td>\n",
       "      <td>Ciutat Vella</td>\n",
       "      <td>3</td>\n",
       "      <td>la Barceloneta</td>\n",
       "      <td>Dones</td>\n",
       "      <td>0 anys</td>\n",
       "      <td>40</td>\n",
       "    </tr>\n",
       "    <tr>\n",
       "      <th>3</th>\n",
       "      <td>1</td>\n",
       "      <td>Ciutat Vella</td>\n",
       "      <td>4</td>\n",
       "      <td>Sant Pere, Santa Caterina i la Ribera</td>\n",
       "      <td>Dones</td>\n",
       "      <td>0 anys</td>\n",
       "      <td>55</td>\n",
       "    </tr>\n",
       "    <tr>\n",
       "      <th>4</th>\n",
       "      <td>2</td>\n",
       "      <td>Eixample</td>\n",
       "      <td>5</td>\n",
       "      <td>el Fort Pienc</td>\n",
       "      <td>Dones</td>\n",
       "      <td>0 anys</td>\n",
       "      <td>83</td>\n",
       "    </tr>\n",
       "  </tbody>\n",
       "</table>\n",
       "</div>"
      ],
      "text/plain": [
       "   Codi_Districte Nom_Districte  Codi_Barri  \\\n",
       "0               1  Ciutat Vella           1   \n",
       "1               1  Ciutat Vella           2   \n",
       "2               1  Ciutat Vella           3   \n",
       "3               1  Ciutat Vella           4   \n",
       "4               2      Eixample           5   \n",
       "\n",
       "                               Nom_Barri   Sexe Edat_any_a_any  Nombre  \n",
       "0                               el Raval  Dones         0 anys     199  \n",
       "1                         el Barri Gòtic  Dones         0 anys      62  \n",
       "2                         la Barceloneta  Dones         0 anys      40  \n",
       "3  Sant Pere, Santa Caterina i la Ribera  Dones         0 anys      55  \n",
       "4                          el Fort Pienc  Dones         0 anys      83  "
      ]
     },
     "execution_count": 3,
     "metadata": {},
     "output_type": "execute_result"
    }
   ],
   "source": [
    "df = df.drop('Any', axis=1)\n",
    "df.head()"
   ]
  },
  {
   "cell_type": "markdown",
   "id": "15e9d297",
   "metadata": {},
   "source": [
    "A continuació es procedirà a aplicar dummies a la variable Nom_Districte"
   ]
  },
  {
   "cell_type": "code",
   "execution_count": 4,
   "id": "42fc3f98",
   "metadata": {
    "scrolled": true
   },
   "outputs": [
    {
     "data": {
      "text/html": [
       "<div>\n",
       "<style scoped>\n",
       "    .dataframe tbody tr th:only-of-type {\n",
       "        vertical-align: middle;\n",
       "    }\n",
       "\n",
       "    .dataframe tbody tr th {\n",
       "        vertical-align: top;\n",
       "    }\n",
       "\n",
       "    .dataframe thead th {\n",
       "        text-align: right;\n",
       "    }\n",
       "</style>\n",
       "<table border=\"1\" class=\"dataframe\">\n",
       "  <thead>\n",
       "    <tr style=\"text-align: right;\">\n",
       "      <th></th>\n",
       "      <th>Ciutat Vella</th>\n",
       "      <th>Eixample</th>\n",
       "      <th>Gràcia</th>\n",
       "      <th>Horta-Guinardó</th>\n",
       "      <th>Les Corts</th>\n",
       "      <th>Nou Barris</th>\n",
       "      <th>Sant Andreu</th>\n",
       "      <th>Sant Martí</th>\n",
       "      <th>Sants-Montjuïc</th>\n",
       "      <th>Sarrià-Sant Gervasi</th>\n",
       "    </tr>\n",
       "  </thead>\n",
       "  <tbody>\n",
       "    <tr>\n",
       "      <th>0</th>\n",
       "      <td>1</td>\n",
       "      <td>0</td>\n",
       "      <td>0</td>\n",
       "      <td>0</td>\n",
       "      <td>0</td>\n",
       "      <td>0</td>\n",
       "      <td>0</td>\n",
       "      <td>0</td>\n",
       "      <td>0</td>\n",
       "      <td>0</td>\n",
       "    </tr>\n",
       "    <tr>\n",
       "      <th>1</th>\n",
       "      <td>1</td>\n",
       "      <td>0</td>\n",
       "      <td>0</td>\n",
       "      <td>0</td>\n",
       "      <td>0</td>\n",
       "      <td>0</td>\n",
       "      <td>0</td>\n",
       "      <td>0</td>\n",
       "      <td>0</td>\n",
       "      <td>0</td>\n",
       "    </tr>\n",
       "    <tr>\n",
       "      <th>2</th>\n",
       "      <td>1</td>\n",
       "      <td>0</td>\n",
       "      <td>0</td>\n",
       "      <td>0</td>\n",
       "      <td>0</td>\n",
       "      <td>0</td>\n",
       "      <td>0</td>\n",
       "      <td>0</td>\n",
       "      <td>0</td>\n",
       "      <td>0</td>\n",
       "    </tr>\n",
       "    <tr>\n",
       "      <th>3</th>\n",
       "      <td>1</td>\n",
       "      <td>0</td>\n",
       "      <td>0</td>\n",
       "      <td>0</td>\n",
       "      <td>0</td>\n",
       "      <td>0</td>\n",
       "      <td>0</td>\n",
       "      <td>0</td>\n",
       "      <td>0</td>\n",
       "      <td>0</td>\n",
       "    </tr>\n",
       "    <tr>\n",
       "      <th>4</th>\n",
       "      <td>0</td>\n",
       "      <td>1</td>\n",
       "      <td>0</td>\n",
       "      <td>0</td>\n",
       "      <td>0</td>\n",
       "      <td>0</td>\n",
       "      <td>0</td>\n",
       "      <td>0</td>\n",
       "      <td>0</td>\n",
       "      <td>0</td>\n",
       "    </tr>\n",
       "    <tr>\n",
       "      <th>...</th>\n",
       "      <td>...</td>\n",
       "      <td>...</td>\n",
       "      <td>...</td>\n",
       "      <td>...</td>\n",
       "      <td>...</td>\n",
       "      <td>...</td>\n",
       "      <td>...</td>\n",
       "      <td>...</td>\n",
       "      <td>...</td>\n",
       "      <td>...</td>\n",
       "    </tr>\n",
       "    <tr>\n",
       "      <th>14595</th>\n",
       "      <td>0</td>\n",
       "      <td>0</td>\n",
       "      <td>0</td>\n",
       "      <td>0</td>\n",
       "      <td>0</td>\n",
       "      <td>0</td>\n",
       "      <td>0</td>\n",
       "      <td>1</td>\n",
       "      <td>0</td>\n",
       "      <td>0</td>\n",
       "    </tr>\n",
       "    <tr>\n",
       "      <th>14596</th>\n",
       "      <td>0</td>\n",
       "      <td>0</td>\n",
       "      <td>0</td>\n",
       "      <td>0</td>\n",
       "      <td>0</td>\n",
       "      <td>0</td>\n",
       "      <td>0</td>\n",
       "      <td>1</td>\n",
       "      <td>0</td>\n",
       "      <td>0</td>\n",
       "    </tr>\n",
       "    <tr>\n",
       "      <th>14597</th>\n",
       "      <td>0</td>\n",
       "      <td>0</td>\n",
       "      <td>0</td>\n",
       "      <td>0</td>\n",
       "      <td>0</td>\n",
       "      <td>0</td>\n",
       "      <td>0</td>\n",
       "      <td>1</td>\n",
       "      <td>0</td>\n",
       "      <td>0</td>\n",
       "    </tr>\n",
       "    <tr>\n",
       "      <th>14598</th>\n",
       "      <td>0</td>\n",
       "      <td>0</td>\n",
       "      <td>0</td>\n",
       "      <td>0</td>\n",
       "      <td>0</td>\n",
       "      <td>0</td>\n",
       "      <td>0</td>\n",
       "      <td>1</td>\n",
       "      <td>0</td>\n",
       "      <td>0</td>\n",
       "    </tr>\n",
       "    <tr>\n",
       "      <th>14599</th>\n",
       "      <td>0</td>\n",
       "      <td>0</td>\n",
       "      <td>0</td>\n",
       "      <td>0</td>\n",
       "      <td>0</td>\n",
       "      <td>0</td>\n",
       "      <td>0</td>\n",
       "      <td>1</td>\n",
       "      <td>0</td>\n",
       "      <td>0</td>\n",
       "    </tr>\n",
       "  </tbody>\n",
       "</table>\n",
       "<p>14600 rows × 10 columns</p>\n",
       "</div>"
      ],
      "text/plain": [
       "       Ciutat Vella  Eixample  Gràcia  Horta-Guinardó  Les Corts  Nou Barris  \\\n",
       "0                 1         0       0               0          0           0   \n",
       "1                 1         0       0               0          0           0   \n",
       "2                 1         0       0               0          0           0   \n",
       "3                 1         0       0               0          0           0   \n",
       "4                 0         1       0               0          0           0   \n",
       "...             ...       ...     ...             ...        ...         ...   \n",
       "14595             0         0       0               0          0           0   \n",
       "14596             0         0       0               0          0           0   \n",
       "14597             0         0       0               0          0           0   \n",
       "14598             0         0       0               0          0           0   \n",
       "14599             0         0       0               0          0           0   \n",
       "\n",
       "       Sant Andreu  Sant Martí  Sants-Montjuïc  Sarrià-Sant Gervasi  \n",
       "0                0           0               0                    0  \n",
       "1                0           0               0                    0  \n",
       "2                0           0               0                    0  \n",
       "3                0           0               0                    0  \n",
       "4                0           0               0                    0  \n",
       "...            ...         ...             ...                  ...  \n",
       "14595            0           1               0                    0  \n",
       "14596            0           1               0                    0  \n",
       "14597            0           1               0                    0  \n",
       "14598            0           1               0                    0  \n",
       "14599            0           1               0                    0  \n",
       "\n",
       "[14600 rows x 10 columns]"
      ]
     },
     "execution_count": 4,
     "metadata": {},
     "output_type": "execute_result"
    }
   ],
   "source": [
    "Districtes = pd.get_dummies(df.Nom_Districte)\n",
    "Districtes"
   ]
  },
  {
   "cell_type": "code",
   "execution_count": 42,
   "id": "421ff7fd",
   "metadata": {},
   "outputs": [
    {
     "data": {
      "text/plain": [
       "14600"
      ]
     },
     "execution_count": 42,
     "metadata": {},
     "output_type": "execute_result"
    }
   ],
   "source": [
    "len(Districtes)"
   ]
  },
  {
   "cell_type": "code",
   "execution_count": 48,
   "id": "396e9e04",
   "metadata": {
    "scrolled": true
   },
   "outputs": [
    {
     "data": {
      "text/plain": [
       "Ciutat Vella            800\n",
       "Eixample               1200\n",
       "Gràcia                 1000\n",
       "Horta-Guinardó         2200\n",
       "Les Corts               600\n",
       "Nou Barris             2600\n",
       "Sant Andreu            1400\n",
       "Sant Martí             2000\n",
       "Sants-Montjuïc         1600\n",
       "Sarrià-Sant Gervasi    1200\n",
       "dtype: int64"
      ]
     },
     "execution_count": 48,
     "metadata": {},
     "output_type": "execute_result"
    }
   ],
   "source": [
    "TotalDistrictes=Districtes.sum()\n",
    "TotalDistrictes"
   ]
  },
  {
   "cell_type": "code",
   "execution_count": 49,
   "id": "2e4244d2",
   "metadata": {},
   "outputs": [
    {
     "data": {
      "text/plain": [
       "14600"
      ]
     },
     "execution_count": 49,
     "metadata": {},
     "output_type": "execute_result"
    }
   ],
   "source": [
    "TotalDistrictes.sum()"
   ]
  },
  {
   "cell_type": "markdown",
   "id": "cdb246fa",
   "metadata": {},
   "source": [
    "Al sumar tots els valors de Districtes en dummy veiem que coincideix amb la longitud del arxiu. Per tant, la transformació es correcta ja que cada fila només te un valor."
   ]
  },
  {
   "cell_type": "markdown",
   "id": "80ecfa9a",
   "metadata": {},
   "source": [
    "A continuació s'estandaritzarà els valors numèrics amb StandardScaler. Per dur a terme aquesta pràctica s'utilitzarà la variable Nombre estudiant primer la seva distribució."
   ]
  },
  {
   "cell_type": "code",
   "execution_count": 51,
   "id": "6df2265f",
   "metadata": {
    "scrolled": false
   },
   "outputs": [
    {
     "data": {
      "image/png": "[encoded data removed]",
      "text/plain": [
       "<Figure size 432x288 with 1 Axes>"
      ]
     },
     "metadata": {},
     "output_type": "display_data"
    }
   ],
   "source": [
    "sns.set()\n",
    "plt.hist(df.Nombre)\n",
    "plt.xlabel('Nombre')\n",
    "plt.ylabel('frec')\n",
    "plt.title('Histograma variable Nombre')\n",
    "plt.show()"
   ]
  },
  {
   "cell_type": "code",
   "execution_count": 90,
   "id": "c8cb56e9",
   "metadata": {
    "scrolled": true
   },
   "outputs": [
    {
     "data": {
      "image/png": "[encoded data removed]",
      "text/plain": [
       "<Figure size 432x288 with 1 Axes>"
      ]
     },
     "metadata": {},
     "output_type": "display_data"
    }
   ],
   "source": [
    "sns.boxplot(data = df, x = 'Nombre', orient = 'h')\n",
    "plt.title('boxplot variable Nombre')\n",
    "plt.show()"
   ]
  },
  {
   "cell_type": "markdown",
   "id": "e1be5149",
   "metadata": {},
   "source": [
    "StandScaler al estandaritzar posa la mitja en 0 y SD en 1. Per fer això és necessari que la variable presenti una distribució normal. En canvi, tal i com s'observa en l'histograma no presenta aquesta distribució. Per tant, primer es provaran diferents transformacions per a que la distribució sigui una mica més simètrica."
   ]
  },
  {
   "cell_type": "code",
   "execution_count": 10,
   "id": "3db4443f",
   "metadata": {},
   "outputs": [],
   "source": [
    "import math"
   ]
  },
  {
   "cell_type": "code",
   "execution_count": 67,
   "id": "e7520158",
   "metadata": {},
   "outputs": [],
   "source": [
    "def log1(x):\n",
    "    a = x+1\n",
    "    b = math.log(a)\n",
    "    return b"
   ]
  },
  {
   "cell_type": "code",
   "execution_count": 73,
   "id": "f6ba68a0",
   "metadata": {},
   "outputs": [
    {
     "data": {
      "image/png": "[encoded data removed]",
      "text/plain": [
       "<Figure size 432x288 with 1 Axes>"
      ]
     },
     "metadata": {},
     "output_type": "display_data"
    }
   ],
   "source": [
    "logNom = df['Nombre'].apply(lambda x: log1(x))\n",
    "sns.set()\n",
    "plt.hist(logNom)\n",
    "plt.xlabel('Nombre')\n",
    "plt.ylabel('frec')\n",
    "plt.title('Histograma variable log_Nombre')\n",
    "plt.show()"
   ]
  },
  {
   "cell_type": "code",
   "execution_count": 11,
   "id": "82400bc8",
   "metadata": {
    "scrolled": true
   },
   "outputs": [
    {
     "data": {
      "image/png": "[encoded data removed]",
      "text/plain": [
       "<Figure size 432x288 with 1 Axes>"
      ]
     },
     "metadata": {},
     "output_type": "display_data"
    }
   ],
   "source": [
    "sqrtNom = df['Nombre'].apply(lambda x: math.sqrt(x))\n",
    "sns.set()\n",
    "plt.hist(sqrtNom)\n",
    "plt.xlabel('Nombre')\n",
    "plt.ylabel('frec')\n",
    "plt.title('Histograma variable sqrt_Nombre')\n",
    "plt.show()"
   ]
  },
  {
   "cell_type": "code",
   "execution_count": 60,
   "id": "3fe5b10a",
   "metadata": {},
   "outputs": [
    {
     "data": {
      "image/png": "[encoded data removed]",
      "text/plain": [
       "<Figure size 432x288 with 1 Axes>"
      ]
     },
     "metadata": {},
     "output_type": "display_data"
    }
   ],
   "source": [
    "sns.boxplot(x = sqrtNom)\n",
    "plt.title('Boxplot varialbe sqrtNom')\n",
    "plt.show()"
   ]
  },
  {
   "cell_type": "code",
   "execution_count": 78,
   "id": "904abf62",
   "metadata": {},
   "outputs": [],
   "source": [
    "def div1(x):\n",
    "    a = 1/(x+1)\n",
    "    return a"
   ]
  },
  {
   "cell_type": "code",
   "execution_count": 79,
   "id": "27ffac35",
   "metadata": {},
   "outputs": [
    {
     "data": {
      "image/png": "[encoded data removed]",
      "text/plain": [
       "<Figure size 432x288 with 1 Axes>"
      ]
     },
     "metadata": {},
     "output_type": "display_data"
    }
   ],
   "source": [
    "divNom = df['Nombre'].apply(lambda x: div1(x))\n",
    "sns.set()\n",
    "plt.hist(divNom)\n",
    "plt.xlabel('Nombre')\n",
    "plt.ylabel('frec')\n",
    "plt.title('Histograma variable 1/Nombre+1')\n",
    "plt.show()"
   ]
  },
  {
   "cell_type": "markdown",
   "id": "2efb739e",
   "metadata": {},
   "source": [
    "Després de provar diferents transformacions s'ha vist que la transformació que dona millor resultat és aplicar l'arrel quadrada. Tot i així, presenta molts outliers que s'intentarà reduir a través de la normalització tot i que es probable que es mantingui la distribució.\n",
    "\n",
    "En el cas de logaritme per evitar el logaritme de 0 s'ha sumat un 1 a tots els casos.\n",
    "\n"
   ]
  },
  {
   "cell_type": "code",
   "execution_count": 63,
   "id": "47189c95",
   "metadata": {},
   "outputs": [
    {
     "name": "stdout",
     "output_type": "stream",
     "text": [
      "25.96150997149434\n",
      "0.0\n"
     ]
    }
   ],
   "source": [
    "#Normalització\n",
    "maxi = max(sqrtNom)\n",
    "mini = min(sqrtNom)\n",
    "print(maxi)\n",
    "print(mini)"
   ]
  },
  {
   "cell_type": "code",
   "execution_count": 61,
   "id": "c2859d75",
   "metadata": {},
   "outputs": [],
   "source": [
    "def normalitzacio(x,maxi, mini):\n",
    "    a = (x-mini)/(maxi-mini)\n",
    "    return a"
   ]
  },
  {
   "cell_type": "code",
   "execution_count": 64,
   "id": "a7f285f2",
   "metadata": {},
   "outputs": [],
   "source": [
    "norm_sqrtNom = sqrtNom.apply(lambda x: normalitzacio(x, maxi, mini))"
   ]
  },
  {
   "cell_type": "code",
   "execution_count": 65,
   "id": "20936aa3",
   "metadata": {},
   "outputs": [
    {
     "data": {
      "image/png": "[encoded data removed]",
      "text/plain": [
       "<Figure size 432x288 with 1 Axes>"
      ]
     },
     "metadata": {},
     "output_type": "display_data"
    }
   ],
   "source": [
    "sns.boxplot(x = norm_sqrtNom)\n",
    "plt.title('Boxplot sqrtNorm mínim normalitzat')\n",
    "plt.show()"
   ]
  },
  {
   "cell_type": "markdown",
   "id": "5d7fb681",
   "metadata": {},
   "source": [
    "Com era d'esperar la normalització no modifica la presència d'outliers. Per tant es treballarà amb la variable sqrtNom."
   ]
  },
  {
   "cell_type": "markdown",
   "id": "03dd70a1",
   "metadata": {},
   "source": [
    "Un cop determinat que l'arrel quadrada és la millor opció o la més aproximada a una distribució Gaussiana es provarà si segueix una distribució normal aplicant el test de Shapiro-Wilk."
   ]
  },
  {
   "cell_type": "code",
   "execution_count": 39,
   "id": "65c5b5ad",
   "metadata": {},
   "outputs": [
    {
     "name": "stdout",
     "output_type": "stream",
     "text": [
      "stat 0.9911792278289795 \n",
      "p 6.422434696734573e-29\n"
     ]
    },
    {
     "name": "stderr",
     "output_type": "stream",
     "text": [
      "C:\\Users\\Guillermo\\anaconda3\\lib\\site-packages\\scipy\\stats\\morestats.py:1760: UserWarning: p-value may not be accurate for N > 5000.\n",
      "  warnings.warn(\"p-value may not be accurate for N > 5000.\")\n"
     ]
    }
   ],
   "source": [
    "from scipy.stats import shapiro\n",
    "stat, p = shapiro(sqrtNom)\n",
    "print('stat', stat, '\\np', p)"
   ]
  },
  {
   "cell_type": "markdown",
   "id": "82908b59",
   "metadata": {},
   "source": [
    "El test de dona un p-valor <<< 0.05 i, en consecuencia, no segueix una distribució normal. Per tant, segons el test no seria recomenable aplicar una estandarització. Igualment, com ho demana l'exercici, es realitzarà l'estandarització amb StandardScaler."
   ]
  },
  {
   "cell_type": "code",
   "execution_count": 13,
   "id": "5a5d00eb",
   "metadata": {},
   "outputs": [],
   "source": [
    "from sklearn.preprocessing import StandardScaler"
   ]
  },
  {
   "cell_type": "markdown",
   "id": "f5d34e0a",
   "metadata": {},
   "source": [
    "Com StandardScaler necessita un array o un dataframe es transforma la variable de serie a dataframe"
   ]
  },
  {
   "cell_type": "code",
   "execution_count": 31,
   "id": "8a488877",
   "metadata": {},
   "outputs": [
    {
     "data": {
      "text/plain": [
       "pandas.core.frame.DataFrame"
      ]
     },
     "execution_count": 31,
     "metadata": {},
     "output_type": "execute_result"
    }
   ],
   "source": [
    "dfSqrtNom = pd.DataFrame(sqrtNom)\n",
    "type(dfSqrtNom)"
   ]
  },
  {
   "cell_type": "code",
   "execution_count": 32,
   "id": "4172fd13",
   "metadata": {},
   "outputs": [
    {
     "data": {
      "text/html": [
       "<div>\n",
       "<style scoped>\n",
       "    .dataframe tbody tr th:only-of-type {\n",
       "        vertical-align: middle;\n",
       "    }\n",
       "\n",
       "    .dataframe tbody tr th {\n",
       "        vertical-align: top;\n",
       "    }\n",
       "\n",
       "    .dataframe thead th {\n",
       "        text-align: right;\n",
       "    }\n",
       "</style>\n",
       "<table border=\"1\" class=\"dataframe\">\n",
       "  <thead>\n",
       "    <tr style=\"text-align: right;\">\n",
       "      <th></th>\n",
       "      <th>Nombre</th>\n",
       "    </tr>\n",
       "  </thead>\n",
       "  <tbody>\n",
       "    <tr>\n",
       "      <th>0</th>\n",
       "      <td>14.106736</td>\n",
       "    </tr>\n",
       "    <tr>\n",
       "      <th>1</th>\n",
       "      <td>7.874008</td>\n",
       "    </tr>\n",
       "    <tr>\n",
       "      <th>2</th>\n",
       "      <td>6.324555</td>\n",
       "    </tr>\n",
       "    <tr>\n",
       "      <th>3</th>\n",
       "      <td>7.416198</td>\n",
       "    </tr>\n",
       "    <tr>\n",
       "      <th>4</th>\n",
       "      <td>9.110434</td>\n",
       "    </tr>\n",
       "  </tbody>\n",
       "</table>\n",
       "</div>"
      ],
      "text/plain": [
       "      Nombre\n",
       "0  14.106736\n",
       "1   7.874008\n",
       "2   6.324555\n",
       "3   7.416198\n",
       "4   9.110434"
      ]
     },
     "execution_count": 32,
     "metadata": {},
     "output_type": "execute_result"
    }
   ],
   "source": [
    "dfSqrtNom.head()"
   ]
  },
  {
   "cell_type": "code",
   "execution_count": 33,
   "id": "216a7d62",
   "metadata": {},
   "outputs": [],
   "source": [
    "scaler = StandardScaler()\n",
    "scal_name = scaler.fit_transform(dfSqrtNom)"
   ]
  },
  {
   "cell_type": "code",
   "execution_count": 34,
   "id": "7c58aec7",
   "metadata": {},
   "outputs": [
    {
     "data": {
      "text/plain": [
       "(14600, 1)"
      ]
     },
     "execution_count": 34,
     "metadata": {},
     "output_type": "execute_result"
    }
   ],
   "source": [
    "scal_name.shape"
   ]
  },
  {
   "cell_type": "code",
   "execution_count": 37,
   "id": "c09efe3d",
   "metadata": {},
   "outputs": [
    {
     "data": {
      "image/png": "[encoded data removed]",
      "text/plain": [
       "<Figure size 432x288 with 1 Axes>"
      ]
     },
     "metadata": {},
     "output_type": "display_data"
    }
   ],
   "source": [
    "plt.hist(scal_name)\n",
    "plt.title('Histograma de sqrtNom amb mitja 0 y SD 1')\n",
    "plt.xlabel('Valors transformats de sqrtNom')\n",
    "plt.ylabel('frec')\n",
    "plt.show()"
   ]
  },
  {
   "cell_type": "code",
   "execution_count": 41,
   "id": "99e748dc",
   "metadata": {
    "scrolled": true
   },
   "outputs": [
    {
     "data": {
      "image/png": "[encoded data removed]",
      "text/plain": [
       "<Figure size 432x288 with 1 Axes>"
      ]
     },
     "metadata": {},
     "output_type": "display_data"
    }
   ],
   "source": [
    "sns.boxplot(x=scal_name)\n",
    "plt.title('Boxplot de sqrtNorm estandaritzat')\n",
    "plt.show()"
   ]
  },
  {
   "cell_type": "code",
   "execution_count": 40,
   "id": "a0b33a8b",
   "metadata": {},
   "outputs": [
    {
     "name": "stdout",
     "output_type": "stream",
     "text": [
      "stat 0.9911804795265198 \n",
      "p 6.449418178961653e-29\n"
     ]
    }
   ],
   "source": [
    "#Shaprio-Wilk test\n",
    "stat, p = shapiro(scal_name)\n",
    "print('stat', stat, '\\np', p)"
   ]
  },
  {
   "cell_type": "markdown",
   "id": "8a6e863d",
   "metadata": {},
   "source": [
    "Després de transformar les dades s'observa que tant la distribució, el boxplot com el Shapiro-Wilk test donen resultats molt semblants, sobretot a nivell gràfic. Això és d'esperar perquè no es modifica la distribució de les dades."
   ]
  },
  {
   "cell_type": "markdown",
   "id": "389c9577",
   "metadata": {},
   "source": [
    "Per un altre costat, per evitar els efectes perjudicials que poden produir els outliers a les nostres dades es poden utilitzar mètodes més robustos com la mitjana i la distància interquartílica en comptes de la mitja i la distribució estàndar per fer l'estandarització. Per utilitzar aquesta opció s'ha d'aplicar el mètode sklearn.preprocessing.RobustScaler que utilitza la mitjana y la IQD."
   ]
  },
  {
   "cell_type": "code",
   "execution_count": 43,
   "id": "7b93051f",
   "metadata": {},
   "outputs": [],
   "source": [
    "import sklearn.preprocessing as skl\n"
   ]
  },
  {
   "cell_type": "code",
   "execution_count": 54,
   "id": "051e26ad",
   "metadata": {},
   "outputs": [],
   "source": [
    "robust = skl.RobustScaler()\n",
    "robustData = robust.fit_transform(dfSqrtNom)\n"
   ]
  },
  {
   "cell_type": "code",
   "execution_count": 58,
   "id": "138aa416",
   "metadata": {},
   "outputs": [
    {
     "data": {
      "image/png": "[encoded data removed]",
      "text/plain": [
       "<Figure size 432x288 with 2 Axes>"
      ]
     },
     "metadata": {},
     "output_type": "display_data"
    }
   ],
   "source": [
    "plt.subplot(2,1,1)\n",
    "plt.hist(robustData)\n",
    "plt.ylabel('frec')\n",
    "plt.title('Histograma y boxplot de sqrtNom amb mitjana 0 i IQR 1')\n",
    "\n",
    "plt.subplot(2,1,2)\n",
    "sns.boxplot(x=robustData)\n",
    "plt.xlabel('Valors de sqrtNom transformats')\n",
    "plt.show()"
   ]
  },
  {
   "cell_type": "markdown",
   "id": "baf644bb",
   "metadata": {},
   "source": [
    "L'aplicació de RobustScaler ha permés transfomar les dades centrant-les en la mitjana en comptes de la mitja i veient-se les dades menys influenciades per els valors atípics."
   ]
  },
  {
   "cell_type": "code",
   "execution_count": null,
   "id": "7481a148",
   "metadata": {},
   "outputs": [],
   "source": []
  }
 ],
 "metadata": {
  "kernelspec": {
   "display_name": "Python 3 (ipykernel)",
   "language": "python",
   "name": "python3"
  },
  "language_info": {
   "codemirror_mode": {
    "name": "ipython",
    "version": 3
   },
   "file_extension": ".py",
   "mimetype": "text/x-python",
   "name": "python",
   "nbconvert_exporter": "python",
   "pygments_lexer": "ipython3",
   "version": "3.9.7"
  }
 },
 "nbformat": 4,
 "nbformat_minor": 5
}
